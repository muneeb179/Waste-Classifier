{
  "nbformat": 4,
  "nbformat_minor": 0,
  "metadata": {
    "colab": {
      "provenance": []
    },
    "kernelspec": {
      "name": "python3",
      "display_name": "Python 3"
    },
    "language_info": {
      "name": "python"
    }
  },
  "cells": [
    {
      "cell_type": "code",
      "source": [
        "# -------------------- MEMBER 2 --------------------\n",
        "\n",
        "# 4️⃣  Show a category summary (counts) using NumPy\n",
        "def show_summary():\n",
        "    print(\"\\nCategory Summary:\")\n",
        "    all_items = list(rules[\"item\"])\n",
        "    all_categories = [classify(item)[0] for item in all_items]\n",
        "    unique_cats, counts = np.unique(all_categories, return_counts=True)\n",
        "    for cat, count in zip(unique_cats, counts):\n",
        "        print(f\"{cat}: {count} item(s)\")\n",
        "\n",
        "# 5️⃣  Text-based menu system for user interaction\n",
        "def show_menu():\n",
        "    while True:\n",
        "        print(\"\\n--- Waste Classifier Menu ---\")\n",
        "        print(\"1. Classify a waste item\")\n",
        "        print(\"2. Add a new rule\")\n",
        "        print(\"3. Show all rules\")\n",
        "        print(\"4. Show category summary\")\n",
        "        print(\"5. Exit\")\n",
        "\n",
        "        choice = input(\"Choose an option (1-5): \").strip()\n",
        "\n",
        "        if choice == \"1\":\n",
        "            item = input(\"Enter item to classify: \")\n",
        "            cat, act = classify(item)\n",
        "            if cat != \"Unknown\":\n",
        "                print(f\"{item} -> {cat}, {act}\")\n",
        "            else:\n",
        "                print(f\"{item} -> Unknown item.\")\n",
        "        elif choice == \"2\":\n",
        "            item = input(\"Enter item name: \")\n",
        "            cat = input(\"Enter category: \")\n",
        "            act = input(\"Enter action: \")\n",
        "            add_rule(item, cat, act)\n",
        "        elif choice == \"3\":\n",
        "            show_rules()\n",
        "        elif choice == \"4\":\n",
        "            show_summary()\n",
        "        elif choice == \"5\":\n",
        "            print(\"Goodbye!\")\n",
        "            break\n",
        "        else:\n",
        "            print(\"Invalid option. Please choose a number from 1 to 5.\")\n",
        "\n",
        "# Program entry point\n",
        "show_menu()"
      ],
      "metadata": {
        "id": "B8iZgQA9HpSA"
      },
      "execution_count": null,
      "outputs": []
    }
  ]
}