{
  "nbformat": 4,
  "nbformat_minor": 0,
  "metadata": {
    "colab": {
      "provenance": []
    },
    "kernelspec": {
      "name": "python3",
      "display_name": "Python 3"
    },
    "language_info": {
      "name": "python"
    }
  },
  "cells": [
    {
      "cell_type": "code",
      "execution_count": null,
      "metadata": {
        "id": "tegn9zqHDRaC"
      },
      "outputs": [],
      "source": [
        "import pandas as pd\n",
        "import numpy as np\n",
        "\n",
        "# -------------------- MEMBER 1 --------------------\n",
        "\n",
        "# Initial waste-sorting rules\n",
        "rules = pd.DataFrame({\n",
        "    \"item\": [\n",
        "        \"banana peel\", \"plastic bottle\", \"battery\", \"glass jar\",\n",
        "        \"egg shell\", \"can\", \"newspaper\", \"food wrapper\"\n",
        "    ],\n",
        "    \"category\": [\n",
        "        \"Organic\", \"Plastic\", \"Hazardous\", \"Glass\",\n",
        "        \"Organic\", \"Metal\", \"Paper\", \"Plastic\"\n",
        "    ],\n",
        "    \"action\": [\n",
        "        \"Compost\", \"Recycle\", \"Take to collection point\", \"Recycle\",\n",
        "        \"Compost\", \"Recycle\", \"Recycle\", \"Dispose\"\n",
        "    ]\n",
        "})\n",
        "\n",
        "# 1️⃣  Classify a single waste item\n",
        "def classify(item):\n",
        "    item = item.lower().strip()\n",
        "    row = rules[rules[\"item\"] == item]\n",
        "    if not row.empty:\n",
        "        return row.iloc[0][\"category\"], row.iloc[0][\"action\"]\n",
        "    else:\n",
        "        return \"Unknown\", \"Unknown\"\n",
        "\n",
        "# 2️⃣  Add a new rule dynamically\n",
        "def add_rule(item, category, action):\n",
        "    global rules\n",
        "    new_row = pd.DataFrame({\n",
        "        \"item\": [item.lower()],\n",
        "        \"category\": [category],\n",
        "        \"action\": [action]\n",
        "    })\n",
        "    rules = pd.concat([rules, new_row], ignore_index=True)\n",
        "    print(f\"Rule added: {item} -> {category}, {action}\")\n",
        "\n",
        "# 3️⃣  Display all current rules\n",
        "def show_rules():\n",
        "    print(\"\\nAll Classification Rules:\")\n",
        "    print(rules.to_string(index=False))"
      ]
    }
  ]
}